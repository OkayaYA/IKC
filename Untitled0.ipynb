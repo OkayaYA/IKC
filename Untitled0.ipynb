{
  "nbformat": 4,
  "nbformat_minor": 0,
  "metadata": {
    "colab": {
      "provenance": [],
      "machine_shape": "hm",
      "mount_file_id": "15gWjntR9xVxAxPwkirPA3gU8IMLZoRww",
      "authorship_tag": "ABX9TyMLxGpWmE3jHE0OPZGPmtMM",
      "include_colab_link": true
    },
    "kernelspec": {
      "name": "python3",
      "display_name": "Python 3"
    },
    "language_info": {
      "name": "python"
    },
    "accelerator": "GPU",
    "gpuClass": "premium"
  },
  "cells": [
    {
      "cell_type": "markdown",
      "metadata": {
        "id": "view-in-github",
        "colab_type": "text"
      },
      "source": [
        "<a href=\"https://colab.research.google.com/github/OkayaYA/IKC/blob/master/Untitled0.ipynb\" target=\"_parent\"><img src=\"https://colab.research.google.com/assets/colab-badge.svg\" alt=\"Open In Colab\"/></a>"
      ]
    },
    {
      "cell_type": "code",
      "execution_count": 4,
      "metadata": {
        "colab": {
          "base_uri": "https://localhost:8080/"
        },
        "id": "HdBTG8Xe8b1o",
        "outputId": "7a9119d6-e82c-4c2e-e3fe-9b0eb8a8a705"
      },
      "outputs": [
        {
          "output_type": "stream",
          "name": "stdout",
          "text": [
            "batch kernel shape: (30000, 21, 21)\n",
            "(30000, 441)\n",
            "PCA matrix shape: torch.Size([441, 10])\n",
            "Traceback (most recent call last):\n",
            "  File \"TrainSFTMD.py\", line 95, in <module>\n",
            "    main()\n",
            "  File \"TrainSFTMD.py\", line 24, in main\n",
            "    encoder = PCAEncoder(pca_matrix, cuda=True)\n",
            "  File \"/content/drive/MyDrive/Colab Notebooks/DeepLearningFinalProject/CodeInpy/Functions.py\", line 72, in __init__\n",
            "    self.weight = Variable(self.weight).cuda()\n",
            "  File \"/usr/local/lib/python3.7/dist-packages/torch/cuda/__init__.py\", line 217, in _lazy_init\n",
            "    torch._C._cuda_init()\n",
            "RuntimeError: No CUDA GPUs are available\n"
          ]
        }
      ],
      "source": [
        "import os\n",
        "path='/content/drive/MyDrive/Colab Notebooks/DeepLearningFinalProject/CodeInpy'\n",
        "os.chdir(path)\n",
        "os.listdir(path)\n",
        "!python TrainSFTMD.py"
      ]
    },
    {
      "cell_type": "code",
      "source": [],
      "metadata": {
        "id": "spHbx5-18nW-"
      },
      "execution_count": null,
      "outputs": []
    }
  ]
}